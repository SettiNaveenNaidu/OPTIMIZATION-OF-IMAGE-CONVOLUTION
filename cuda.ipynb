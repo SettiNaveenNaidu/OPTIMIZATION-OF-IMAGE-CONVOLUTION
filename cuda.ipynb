{
  "nbformat": 4,
  "nbformat_minor": 0,
  "metadata": {
    "accelerator": "GPU",
    "colab": {
      "name": "conv_cuda (1).ipynb",
      "provenance": [],
      "collapsed_sections": []
    },
    "kernelspec": {
      "display_name": "Python 3",
      "name": "python3"
    },
    "language_info": {
      "name": "python"
    }
  },
  "cells": [
    {
      "cell_type": "code",
      "metadata": {
        "id": "9PL3n3MZXWs7"
      },
      "source": [
        "!apt-get --purge remove cuda nvidia* libnvidia-*\n",
        "!dpkg -l | grep cuda- | awk '{print $2}' | xargs -n1 dpkg --purge\n",
        "!apt-get remove cuda-*\n",
        "!apt autoremove\n",
        "!apt-get update"
      ],
      "execution_count": null,
      "outputs": []
    },
    {
      "cell_type": "code",
      "metadata": {
        "id": "1TmvscdDXbdX",
        "colab": {
          "base_uri": "https://localhost:8080/"
        },
        "outputId": "64f14341-bedc-45c8-cb22-f9b895013712"
      },
      "source": [
        "!wget https://developer.nvidia.com/compute/cuda/9.2/Prod/local_installers/cuda-repo-ubuntu1604-9-2-local_9.2.88-1_amd64 -O cuda-repo-ubuntu1604-9-2-local_9.2.88-1_amd64.deb\n",
        "!dpkg -i cuda-repo-ubuntu1604-9-2-local_9.2.88-1_amd64.deb\n",
        "!apt-key add /var/cuda-repo-9-2-local/7fa2af80.pub\n",
        "!apt-get update\n",
        "!apt-get install cuda-9.2"
      ],
      "execution_count": null,
      "outputs": [
        {
          "output_type": "stream",
          "name": "stdout",
          "text": [
            "Processing triggers for mime-support (3.60ubuntu1) ...\n",
            "Processing triggers for libc-bin (2.27-3ubuntu1.3) ...\n",
            "/sbin/ldconfig.real: /usr/local/lib/python3.7/dist-packages/ideep4py/lib/libmkldnn.so.0 is not a symbolic link\n",
            "\n"
          ]
        }
      ]
    },
    {
      "cell_type": "code",
      "metadata": {
        "id": "xINK6i0-Xd-f",
        "colab": {
          "base_uri": "https://localhost:8080/"
        },
        "outputId": "2cdf4263-4b7f-42e2-af65-b9fd3ca1926c"
      },
      "source": [
        "!nvcc --version"
      ],
      "execution_count": null,
      "outputs": [
        {
          "output_type": "stream",
          "name": "stdout",
          "text": [
            "nvcc: NVIDIA (R) Cuda compiler driver\n",
            "Copyright (c) 2005-2018 NVIDIA Corporation\n",
            "Built on Wed_Apr_11_23:16:29_CDT_2018\n",
            "Cuda compilation tools, release 9.2, V9.2.88\n"
          ]
        }
      ]
    },
    {
      "cell_type": "code",
      "metadata": {
        "id": "zVNa8iN2XkGq",
        "colab": {
          "base_uri": "https://localhost:8080/"
        },
        "outputId": "8167fd6b-e396-463f-f142-00c12f75fdd1"
      },
      "source": [
        "!pip install git+git://github.com/andreinechaev/nvcc4jupyter.git"
      ],
      "execution_count": null,
      "outputs": [
        {
          "output_type": "stream",
          "name": "stdout",
          "text": [
            "Collecting git+git://github.com/andreinechaev/nvcc4jupyter.git\n",
            "  Cloning git://github.com/andreinechaev/nvcc4jupyter.git to /tmp/pip-req-build-5chaqca1\n",
            "  Running command git clone -q git://github.com/andreinechaev/nvcc4jupyter.git /tmp/pip-req-build-5chaqca1\n",
            "Building wheels for collected packages: NVCCPlugin\n",
            "  Building wheel for NVCCPlugin (setup.py) ... \u001b[?25l\u001b[?25hdone\n",
            "  Created wheel for NVCCPlugin: filename=NVCCPlugin-0.0.2-py3-none-any.whl size=4305 sha256=485739fb50749807469d0776a41cef47077f68ebe142f90c8689a63235471055\n",
            "  Stored in directory: /tmp/pip-ephem-wheel-cache-qxwypl_d/wheels/c5/2b/c0/87008e795a14bbcdfc7c846a00d06981916331eb980b6c8bdf\n",
            "Successfully built NVCCPlugin\n",
            "Installing collected packages: NVCCPlugin\n",
            "Successfully installed NVCCPlugin-0.0.2\n"
          ]
        }
      ]
    },
    {
      "cell_type": "code",
      "metadata": {
        "id": "fY7wtMNcXmRV",
        "colab": {
          "base_uri": "https://localhost:8080/"
        },
        "outputId": "51374452-83a5-459c-c528-114d213572b8"
      },
      "source": [
        "%load_ext nvcc_plugin"
      ],
      "execution_count": null,
      "outputs": [
        {
          "output_type": "stream",
          "name": "stdout",
          "text": [
            "created output directory at /content/src\n",
            "Out bin /content/result.out\n"
          ]
        }
      ]
    },
    {
      "cell_type": "code",
      "metadata": {
        "colab": {
          "base_uri": "https://localhost:8080/"
        },
        "id": "4VUmqzVRo2J8",
        "outputId": "f684c960-31a5-4637-dfa6-88e7dcc4ac7f"
      },
      "source": [
        "from google.colab import drive\n",
        "drive.mount('/gdrive')\n",
        "%cd /gdrive"
      ],
      "execution_count": null,
      "outputs": [
        {
          "output_type": "stream",
          "name": "stdout",
          "text": [
            "Mounted at /gdrive\n",
            "/gdrive\n"
          ]
        }
      ]
    },
    {
      "cell_type": "code",
      "metadata": {
        "colab": {
          "base_uri": "https://localhost:8080/"
        },
        "id": "hTwM9l31dEt0",
        "outputId": "9958af32-f240-45ca-96d5-57660e4312c9"
      },
      "source": [
        "%ls"
      ],
      "execution_count": null,
      "outputs": [
        {
          "output_type": "stream",
          "name": "stdout",
          "text": [
            "\u001b[0m\u001b[01;34mMyDrive\u001b[0m/  \u001b[01;34mShareddrives\u001b[0m/\n"
          ]
        }
      ]
    },
    {
      "cell_type": "code",
      "metadata": {
        "colab": {
          "base_uri": "https://localhost:8080/"
        },
        "id": "c3FnDFCzpv0v",
        "outputId": "c92059b3-ea30-4775-e4ab-558ad88c8e9a"
      },
      "source": [
        "%cd MyDrive/datasets/pc_pixel_files/"
      ],
      "execution_count": null,
      "outputs": [
        {
          "output_type": "stream",
          "name": "stdout",
          "text": [
            "/gdrive/MyDrive/datasets/pc_pixel_files\n"
          ]
        }
      ]
    },
    {
      "cell_type": "code",
      "metadata": {
        "colab": {
          "base_uri": "https://localhost:8080/"
        },
        "id": "Gd73i-nJcXQa",
        "outputId": "5eb2ceed-ade1-421d-94da-769a7c273dfc"
      },
      "source": [
        "%%cu\n",
        "\n",
        "#include <bits/stdc++.h>\n",
        "#include <fstream>\n",
        "#include <sys/time.h>\n",
        "using namespace std;\n",
        "\n",
        "double timetaken = 0;\n",
        "\n",
        "__global__ void make_cuda_computation (int *image, int *conv_image, int *d_rows, int *d_cols) {\n",
        "\t\t\n",
        "\t\tdouble filter[3][3];\n",
        "\t\tint rows, cols;\n",
        "\t\trows = *(d_rows);\n",
        "\t\tcols = *(d_cols);\n",
        "\t\tfilter[0][0] = filter[0][2] = filter[2][0] = filter[2][2] = 1.0;\n",
        "\t\tfilter[0][1] = filter[1][0] = filter[1][2] = filter[2][1] = 2.0;\n",
        "\t\tfilter[1][1] = 4.0;\n",
        "\t\t//filter = {{0.111111,0.111111,0.111111},{0.111111,0.111111,0.111111},{0.111111,0.111111,0.111111}};\n",
        "    //filter = {{1/9,1/9,1/9},{1/9,1/9,1/9},{1/9,1/9,1/9}};\n",
        "    //filter = {{1.0,2.0,1.0},{2.0,4.0,2.0},{1.0,2.0,1.0}};\n",
        "\n",
        "\t\tint block = blockIdx.x + blockIdx.y*blockDim.x;\n",
        "\t\t\n",
        "\t\tint id = blockIdx.x*blockDim.x+threadIdx.x;\n",
        "\t\tint i = id/cols;\n",
        "\t\tint j = id%cols;\n",
        "\n",
        "\t\tif (i>0 && i<rows-1 && j<cols-1 && j>0) {\n",
        "\n",
        "\t\t\tdouble a = double(image[(i-1)*cols + j-1])*filter[0][0] + double(image[(i-1)*cols + j])*filter[0][1] + double(image[(i-1)*cols + j+1])*filter[0][2];\n",
        "\t\t\ta += double(image[i*cols + j -1])*filter[1][0] + double(image[i*cols + j])*filter[1][1] + double(image[i*cols + j+1])*filter[1][2];\n",
        "\t\t\ta += double(image[(i+1)*cols + j-1])*filter[2][0] + double(image[(i+1)*cols + j])*filter[2][1] + double(image[(i+1)*cols + j+1])*filter[2][2];\n",
        "\t\t\t\n",
        "\t\t\tconv_image[i*cols + j] = round(a/16.0);\n",
        "\t\t\t\n",
        "\t\t}\n",
        "}\n",
        "\n",
        "vector<vector<int>> do_conv(vector<vector<int>> padded_data) {\n",
        "    //vector<vector<int>> conv_image_data;\n",
        "    vector<vector<double>> filter;\n",
        "\n",
        "    int rows, cols;\n",
        "\t\trows = padded_data.size();\n",
        "    cols = padded_data[0].size();\n",
        "\t\tint *d_cols,*d_rows;\n",
        "\n",
        "\t\tint *conv_image, *d_conv_image, *image, *d_image;\n",
        "\t\tconv_image = (int *)malloc((rows)*(cols) * sizeof(int));\n",
        "\t\timage =  (int *)malloc((rows)*(cols) * sizeof(int));\n",
        "\n",
        "\t\tcudaMalloc(&d_conv_image, (rows)*(cols)*sizeof(int));\n",
        "\t\tcudaMalloc(&d_image, (rows)*(cols)*sizeof(int));\n",
        "\t\tcudaMalloc(&d_cols, sizeof(int));\n",
        "\t\tcudaMalloc(&d_rows, sizeof(int));\n",
        "\n",
        "\t\t//adding data to pointer array\n",
        "\t\tfor (int i=0;i<rows;i++) {\n",
        "\t\t\t\tfor (int j=0;j<cols;j++) {\n",
        "\t\t\t\t\t\timage[ i*cols + j] = padded_data[i][j]; \n",
        "\t\t\t\t\t\tconv_image[i*cols + j] = -1;\n",
        "\t\t\t\t}\n",
        "\t\t}\n",
        "\t\t//copying host data to device data\n",
        "\t\tcudaMemcpy( d_image, image, (rows)*(cols)*sizeof(int) , cudaMemcpyHostToDevice);\n",
        "\t\tcudaMemcpy( d_cols, &cols, sizeof(int) , cudaMemcpyHostToDevice);\n",
        "\t\tcudaMemcpy( d_rows, &rows, sizeof(int) , cudaMemcpyHostToDevice);\n",
        "\t\t\n",
        "\t\tstruct timeval t1, t2;\n",
        "\n",
        "\t\tgettimeofday(&t1, 0);\n",
        "\t\tmake_cuda_computation<<<rows*cols/512, 512>>>(d_image,d_conv_image,d_rows, d_cols);\n",
        "\t\tcudaDeviceSynchronize();\n",
        "\n",
        "\t\tcudaMemcpy( conv_image, d_conv_image, (rows)*(cols)*sizeof(int) , cudaMemcpyDeviceToHost);\n",
        "\t\tgettimeofday(&t2, 0);\n",
        "\n",
        "\t\tvector<vector<int>> conv_image_data;\n",
        "\n",
        "\t\tint index = cols+1;\n",
        "\t\tfor (int i=1;i<rows-1;i++) {\n",
        "\t\t\t\tvector<int> temp;\n",
        "\t\t\t\tfor (int j=1;j<cols-1;j++) {\n",
        "\t\t\t\t\t\ttemp.push_back(conv_image[index]);\n",
        "\t\t\t\t\t\tindex++;\n",
        "\t\t\t\t}\n",
        "\t\t\t\tindex+=2;\n",
        "\t\t\t\tconv_image_data.push_back(temp);\n",
        "\t\t}\n",
        "\n",
        "\t\tfree(conv_image);\n",
        "\t\tcudaFree(d_conv_image);\n",
        "\n",
        "\t\tdouble time = (1000000.0*(t2.tv_sec-t1.tv_sec) + t2.tv_usec-t1.tv_usec)/1000.0;\n",
        "\t\ttimetaken += time;\n",
        "\t  printf(\"Time to generate: %3.10f ms \\n\", time);\n",
        "\n",
        "    return conv_image_data;\n",
        "\n",
        "}\n",
        "\n",
        "int main(int argc, char** argv ) {\n",
        "\t\t//taking image as input\n",
        "\n",
        "\t\tifstream Myfile;\n",
        "\t\tofstream myfile2;\n",
        "\t\tstring img_str;\n",
        "\t\tvector<int> v;\n",
        "\n",
        "\t\tstring in_filename = \"2048_2048/image_data_k.txt\";\n",
        "\t\tstring out_filename = \"2048_2048/output_k.txt\";\n",
        "\t\tchar c[3] = {'b','g','r'};\n",
        "\n",
        "\t\tfor (int t=0;t<3;t++) {\n",
        "\t\t\tvector<vector<int>> pixel_data;\n",
        "\t\t\tin_filename[21] = c[t];\n",
        "\t\t\tMyfile.open(in_filename);\n",
        "\t\t\t//reading image file\n",
        "\t\t\tif (Myfile.is_open()) {\n",
        "\t\t\t\twhile(getline(Myfile, img_str)) {\n",
        "\t\t\t\t\tint k=0;\n",
        "\t\t\t\t\tvector<int> row;\n",
        "\t\t\t\t\tfor (int i=0;i<img_str.length();i++) {\n",
        "\t\t\t\t\t\tif (img_str[i]==' ') {\n",
        "\t\t\t\t\t\t\trow.push_back(k);\n",
        "\t\t\t\t\t\t\tk=0;\n",
        "\t\t\t\t\t\t} else if (img_str[i]=='\\n') ;\n",
        "\t\t\t\t\t\telse {\n",
        "\t\t\t\t\t\t\tk*=10;\n",
        "\t\t\t\t\t\t\tk+=int(img_str[i]) - 48;\n",
        "\t\t\t\t\t\t}\n",
        "\t\t\t\t\t}\n",
        "\t\t\t\t\tpixel_data.push_back(row);\n",
        "\t\t\t\t}\n",
        "\t\t\t} else {\n",
        "\t\t\t\tcout<<\"Error in image input\";\n",
        "\t\t\t\treturn 0;\n",
        "\t\t\t}\n",
        "\t\t\tMyfile.close();\n",
        "\n",
        "\t\t\t//do convolution\n",
        "\t\t\tvector<vector<int>> conv_data;\n",
        "\t\t\tconv_data = do_conv(pixel_data);\n",
        "\n",
        "\n",
        "\t\t\t//writing it to output.txt\n",
        "\t\t\tout_filename[17] = c[t];\n",
        "\t\t\tmyfile2.open(out_filename);\n",
        "\t\t\tfor (int i=0;i<conv_data.size();i++) {\n",
        "\t\t\t\tfor (int j=0;j<conv_data[0].size();j++) {\n",
        "\t\t\t\t\tmyfile2 << to_string(conv_data[i][j]) << \" \";\n",
        "\t\t\t\t}\n",
        "\t\t\t\tmyfile2 << endl;\n",
        "\t\t\t}\n",
        "\t\t\tmyfile2.close();\n",
        "\t\t}\n",
        "\t\t\tprintf(\"time total = %f\", timetaken);\n",
        "\t   return 0;\n",
        "}"
      ],
      "execution_count": null,
      "outputs": [
        {
          "output_type": "stream",
          "name": "stdout",
          "text": [
            "Time to generate: 3.5130000000 ms \n",
            "Time to generate: 3.3230000000 ms \n",
            "Time to generate: 3.3350000000 ms \n",
            "time total = 10.171000\n"
          ]
        }
      ]
    },
    {
      "cell_type": "code",
      "metadata": {
        "id": "enNXlbbrMuZa"
      },
      "source": [
        ""
      ],
      "execution_count": null,
      "outputs": []
    }
  ]
}